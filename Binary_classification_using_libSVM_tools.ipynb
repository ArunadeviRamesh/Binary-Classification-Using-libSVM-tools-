{
  "nbformat": 4,
  "nbformat_minor": 0,
  "metadata": {
    "colab": {
      "name": "Binary classification using libSVM tools.ipynb",
      "provenance": [],
      "collapsed_sections": [],
      "mount_file_id": "16EyE5DX2OD7Fg7Bs8agS5mUQ2VhUYYvg",
      "authorship_tag": "ABX9TyPDFuWfMMGRef1A38SQZlj8",
      "include_colab_link": true
    },
    "kernelspec": {
      "name": "python3",
      "display_name": "Python 3"
    }
  },
  "cells": [
    {
      "cell_type": "markdown",
      "metadata": {
        "id": "view-in-github",
        "colab_type": "text"
      },
      "source": [
        "<a href=\"https://colab.research.google.com/github/ArunadeviRamesh/Binary-Classification-Using-libSVM-tools-/blob/main/Binary_classification_using_libSVM_tools.ipynb\" target=\"_parent\"><img src=\"https://colab.research.google.com/assets/colab-badge.svg\" alt=\"Open In Colab\"/></a>"
      ]
    },
    {
      "cell_type": "markdown",
      "metadata": {
        "id": "DJZ8Q9hWZE21"
      },
      "source": [
        "Take any binary class dataset and study the impact of different kernels on the performance of classification.  Also, record the performance against the different count of support-vectors.  Use the LibSVM tool to run this experiment."
      ]
    },
    {
      "cell_type": "code",
      "metadata": {
        "id": "uMKZiKx4V9BE"
      },
      "source": [
        "import pandas as pd\r\n",
        "import warnings\r\n",
        "warnings.filterwarnings(\"ignore\")\r\n",
        "df=pd.read_csv(\"/content/gender_classification_v7.csv\")"
      ],
      "execution_count": null,
      "outputs": []
    },
    {
      "cell_type": "code",
      "metadata": {
        "colab": {
          "base_uri": "https://localhost:8080/",
          "height": 111
        },
        "id": "x2lv_Cw4Zhc1",
        "outputId": "fddb4a59-792b-4a77-f2a6-6a7021e15113"
      },
      "source": [
        "df.head(2)"
      ],
      "execution_count": null,
      "outputs": [
        {
          "output_type": "execute_result",
          "data": {
            "text/html": [
              "<div>\n",
              "<style scoped>\n",
              "    .dataframe tbody tr th:only-of-type {\n",
              "        vertical-align: middle;\n",
              "    }\n",
              "\n",
              "    .dataframe tbody tr th {\n",
              "        vertical-align: top;\n",
              "    }\n",
              "\n",
              "    .dataframe thead th {\n",
              "        text-align: right;\n",
              "    }\n",
              "</style>\n",
              "<table border=\"1\" class=\"dataframe\">\n",
              "  <thead>\n",
              "    <tr style=\"text-align: right;\">\n",
              "      <th></th>\n",
              "      <th>long_hair</th>\n",
              "      <th>forehead_width_cm</th>\n",
              "      <th>forehead_height_cm</th>\n",
              "      <th>nose_wide</th>\n",
              "      <th>nose_long</th>\n",
              "      <th>lips_thin</th>\n",
              "      <th>distance_nose_to_lip_long</th>\n",
              "      <th>gender</th>\n",
              "    </tr>\n",
              "  </thead>\n",
              "  <tbody>\n",
              "    <tr>\n",
              "      <th>0</th>\n",
              "      <td>1</td>\n",
              "      <td>11.8</td>\n",
              "      <td>6.1</td>\n",
              "      <td>1</td>\n",
              "      <td>0</td>\n",
              "      <td>1</td>\n",
              "      <td>1</td>\n",
              "      <td>Male</td>\n",
              "    </tr>\n",
              "    <tr>\n",
              "      <th>1</th>\n",
              "      <td>0</td>\n",
              "      <td>14.0</td>\n",
              "      <td>5.4</td>\n",
              "      <td>0</td>\n",
              "      <td>0</td>\n",
              "      <td>1</td>\n",
              "      <td>0</td>\n",
              "      <td>Female</td>\n",
              "    </tr>\n",
              "  </tbody>\n",
              "</table>\n",
              "</div>"
            ],
            "text/plain": [
              "   long_hair  forehead_width_cm  ...  distance_nose_to_lip_long  gender\n",
              "0          1               11.8  ...                          1    Male\n",
              "1          0               14.0  ...                          0  Female\n",
              "\n",
              "[2 rows x 8 columns]"
            ]
          },
          "metadata": {
            "tags": []
          },
          "execution_count": 2
        }
      ]
    },
    {
      "cell_type": "code",
      "metadata": {
        "id": "ovRQxjt4Zi3Y"
      },
      "source": [
        "df = df.replace(to_replace={'Male':0,'Female':1})\r\n"
      ],
      "execution_count": null,
      "outputs": []
    },
    {
      "cell_type": "code",
      "metadata": {
        "colab": {
          "base_uri": "https://localhost:8080/",
          "height": 111
        },
        "id": "e2OqPzyvZz-_",
        "outputId": "85d91415-a88f-48eb-8f4d-82d141a34e85"
      },
      "source": [
        "df.head(2)"
      ],
      "execution_count": null,
      "outputs": [
        {
          "output_type": "execute_result",
          "data": {
            "text/html": [
              "<div>\n",
              "<style scoped>\n",
              "    .dataframe tbody tr th:only-of-type {\n",
              "        vertical-align: middle;\n",
              "    }\n",
              "\n",
              "    .dataframe tbody tr th {\n",
              "        vertical-align: top;\n",
              "    }\n",
              "\n",
              "    .dataframe thead th {\n",
              "        text-align: right;\n",
              "    }\n",
              "</style>\n",
              "<table border=\"1\" class=\"dataframe\">\n",
              "  <thead>\n",
              "    <tr style=\"text-align: right;\">\n",
              "      <th></th>\n",
              "      <th>long_hair</th>\n",
              "      <th>forehead_width_cm</th>\n",
              "      <th>forehead_height_cm</th>\n",
              "      <th>nose_wide</th>\n",
              "      <th>nose_long</th>\n",
              "      <th>lips_thin</th>\n",
              "      <th>distance_nose_to_lip_long</th>\n",
              "      <th>gender</th>\n",
              "    </tr>\n",
              "  </thead>\n",
              "  <tbody>\n",
              "    <tr>\n",
              "      <th>0</th>\n",
              "      <td>1</td>\n",
              "      <td>11.8</td>\n",
              "      <td>6.1</td>\n",
              "      <td>1</td>\n",
              "      <td>0</td>\n",
              "      <td>1</td>\n",
              "      <td>1</td>\n",
              "      <td>0</td>\n",
              "    </tr>\n",
              "    <tr>\n",
              "      <th>1</th>\n",
              "      <td>0</td>\n",
              "      <td>14.0</td>\n",
              "      <td>5.4</td>\n",
              "      <td>0</td>\n",
              "      <td>0</td>\n",
              "      <td>1</td>\n",
              "      <td>0</td>\n",
              "      <td>1</td>\n",
              "    </tr>\n",
              "  </tbody>\n",
              "</table>\n",
              "</div>"
            ],
            "text/plain": [
              "   long_hair  forehead_width_cm  ...  distance_nose_to_lip_long  gender\n",
              "0          1               11.8  ...                          1       0\n",
              "1          0               14.0  ...                          0       1\n",
              "\n",
              "[2 rows x 8 columns]"
            ]
          },
          "metadata": {
            "tags": []
          },
          "execution_count": 4
        }
      ]
    },
    {
      "cell_type": "code",
      "metadata": {
        "id": "OsIzXE1iPpGy"
      },
      "source": [
        "x=df.iloc[:,0:7]\r\n",
        "y=df[\"gender\"]\r\n",
        "from sklearn.model_selection import train_test_split\r\n",
        "x_train, x_test, y_train, y_test = train_test_split(x, y,test_size=0.4,random_state=1)"
      ],
      "execution_count": null,
      "outputs": []
    },
    {
      "cell_type": "code",
      "metadata": {
        "id": "4IxXjlHcPs7n"
      },
      "source": [
        "# Feature Scaling\r\n",
        "from sklearn.preprocessing import StandardScaler\r\n",
        "sc = StandardScaler()\r\n",
        "x_train = sc.fit_transform(x_train)\r\n",
        "x_test = sc.transform(x_test)"
      ],
      "execution_count": null,
      "outputs": []
    },
    {
      "cell_type": "code",
      "metadata": {
        "id": "MHtv8voQjYNq"
      },
      "source": [
        "x=df.iloc[:,0:7]\r\n",
        "y=df[\"gender\"]\r\n",
        "from sklearn.model_selection import train_test_split\r\n",
        "x_train, x_test, y_train, y_test = train_test_split(x, y,test_size=0.4,random_state=1)\r\n",
        "x_train = x_train.values.tolist()\r\n",
        "y_train = y_train.values.tolist()\r\n",
        "x_test = x_test.values.tolist()\r\n",
        "y_test = y_test.values.tolist()\r\n"
      ],
      "execution_count": null,
      "outputs": []
    },
    {
      "cell_type": "code",
      "metadata": {
        "colab": {
          "base_uri": "https://localhost:8080/"
        },
        "id": "fKMWtA7CoBox",
        "outputId": "6285057b-c9dd-4d02-f2a8-a380017108bd"
      },
      "source": [
        "! pip install libsvm"
      ],
      "execution_count": null,
      "outputs": [
        {
          "output_type": "stream",
          "text": [
            "Collecting libsvm\n",
            "\u001b[?25l  Downloading https://files.pythonhosted.org/packages/4b/11/c7700d0cd3a21eef2d7d996256277fc640ccd4f84717c10228cb6c1567dc/libsvm-3.23.0.4.tar.gz (170kB)\n",
            "\r\u001b[K     |██                              | 10kB 15.3MB/s eta 0:00:01\r\u001b[K     |███▉                            | 20kB 15.6MB/s eta 0:00:01\r\u001b[K     |█████▊                          | 30kB 8.5MB/s eta 0:00:01\r\u001b[K     |███████▊                        | 40kB 8.6MB/s eta 0:00:01\r\u001b[K     |█████████▋                      | 51kB 4.9MB/s eta 0:00:01\r\u001b[K     |███████████▌                    | 61kB 5.4MB/s eta 0:00:01\r\u001b[K     |█████████████▌                  | 71kB 5.4MB/s eta 0:00:01\r\u001b[K     |███████████████▍                | 81kB 6.0MB/s eta 0:00:01\r\u001b[K     |█████████████████▎              | 92kB 6.3MB/s eta 0:00:01\r\u001b[K     |███████████████████▏            | 102kB 6.8MB/s eta 0:00:01\r\u001b[K     |█████████████████████▏          | 112kB 6.8MB/s eta 0:00:01\r\u001b[K     |███████████████████████         | 122kB 6.8MB/s eta 0:00:01\r\u001b[K     |█████████████████████████       | 133kB 6.8MB/s eta 0:00:01\r\u001b[K     |███████████████████████████     | 143kB 6.8MB/s eta 0:00:01\r\u001b[K     |████████████████████████████▉   | 153kB 6.8MB/s eta 0:00:01\r\u001b[K     |██████████████████████████████▊ | 163kB 6.8MB/s eta 0:00:01\r\u001b[K     |████████████████████████████████| 174kB 6.8MB/s \n",
            "\u001b[?25hBuilding wheels for collected packages: libsvm\n",
            "  Building wheel for libsvm (setup.py) ... \u001b[?25l\u001b[?25hdone\n",
            "  Created wheel for libsvm: filename=libsvm-3.23.0.4-cp36-cp36m-linux_x86_64.whl size=233326 sha256=6f54911c753dfb48d70e54b6c09e287c59ff24c6fd1500d55b2a88b655b3e16b\n",
            "  Stored in directory: /root/.cache/pip/wheels/5e/9e/b5/dbb033107407eec2f52b8cd24cf024a4b9ec8b62ea5aee995a\n",
            "Successfully built libsvm\n",
            "Installing collected packages: libsvm\n",
            "Successfully installed libsvm-3.23.0.4\n"
          ],
          "name": "stdout"
        }
      ]
    },
    {
      "cell_type": "code",
      "metadata": {
        "id": "3RbBZYGtgJva"
      },
      "source": [
        "from libsvm import *\r\n",
        "from libsvm.svmutil import *\r\n",
        "prob = svm_problem(y_train,x_train)\r\n",
        "param = svm_parameter()\r\n",
        "param.kernel_type = RBF\r\n",
        "param.degree = 3\r\n",
        "param.C = 10\r\n",
        "m=svm_train(prob, param)"
      ],
      "execution_count": null,
      "outputs": []
    },
    {
      "cell_type": "code",
      "metadata": {
        "colab": {
          "base_uri": "https://localhost:8080/"
        },
        "id": "gXtNFOKkkl04",
        "outputId": "265bfc8a-f849-4f7a-f7c7-cd66c567dc7e"
      },
      "source": [
        "result = svm_predict(y_test,x_test ,m)\r\n",
        "print(result[0])"
      ],
      "execution_count": null,
      "outputs": [
        {
          "output_type": "stream",
          "text": [
            "Accuracy = 97.5512% (1952/2001) (classification)\n",
            "[1.0, 0.0, 1.0, 1.0, 1.0, 0.0, 0.0, 1.0, 0.0, 1.0, 0.0, 0.0, 0.0, 1.0, 0.0, 0.0, 0.0, 0.0, 1.0, 1.0, 1.0, 0.0, 1.0, 0.0, 0.0, 0.0, 1.0, 1.0, 1.0, 1.0, 0.0, 0.0, 0.0, 1.0, 0.0, 1.0, 1.0, 0.0, 1.0, 1.0, 0.0, 1.0, 1.0, 1.0, 1.0, 1.0, 0.0, 1.0, 1.0, 1.0, 1.0, 0.0, 0.0, 0.0, 1.0, 0.0, 1.0, 0.0, 0.0, 0.0, 0.0, 1.0, 0.0, 1.0, 0.0, 0.0, 0.0, 1.0, 1.0, 0.0, 1.0, 0.0, 0.0, 1.0, 1.0, 1.0, 1.0, 0.0, 1.0, 1.0, 0.0, 1.0, 0.0, 1.0, 0.0, 0.0, 0.0, 1.0, 0.0, 0.0, 1.0, 0.0, 0.0, 1.0, 0.0, 1.0, 0.0, 0.0, 0.0, 1.0, 1.0, 1.0, 0.0, 0.0, 1.0, 0.0, 0.0, 0.0, 0.0, 1.0, 1.0, 1.0, 1.0, 1.0, 1.0, 0.0, 0.0, 1.0, 0.0, 1.0, 1.0, 1.0, 0.0, 0.0, 0.0, 0.0, 1.0, 1.0, 0.0, 1.0, 0.0, 0.0, 1.0, 1.0, 1.0, 0.0, 1.0, 1.0, 1.0, 1.0, 0.0, 1.0, 0.0, 1.0, 1.0, 0.0, 1.0, 0.0, 1.0, 1.0, 0.0, 1.0, 1.0, 1.0, 0.0, 0.0, 1.0, 1.0, 0.0, 1.0, 0.0, 1.0, 0.0, 1.0, 0.0, 1.0, 1.0, 0.0, 1.0, 0.0, 1.0, 1.0, 1.0, 0.0, 1.0, 0.0, 0.0, 0.0, 0.0, 1.0, 1.0, 1.0, 0.0, 1.0, 0.0, 0.0, 0.0, 1.0, 0.0, 1.0, 0.0, 0.0, 0.0, 0.0, 0.0, 0.0, 0.0, 1.0, 0.0, 1.0, 0.0, 0.0, 1.0, 0.0, 1.0, 1.0, 1.0, 0.0, 0.0, 0.0, 1.0, 1.0, 1.0, 1.0, 1.0, 1.0, 0.0, 1.0, 1.0, 0.0, 1.0, 0.0, 0.0, 0.0, 1.0, 1.0, 0.0, 1.0, 1.0, 1.0, 0.0, 1.0, 1.0, 0.0, 0.0, 0.0, 0.0, 0.0, 1.0, 0.0, 1.0, 0.0, 0.0, 1.0, 1.0, 1.0, 0.0, 1.0, 1.0, 0.0, 0.0, 1.0, 0.0, 1.0, 1.0, 1.0, 0.0, 0.0, 0.0, 0.0, 1.0, 1.0, 0.0, 0.0, 0.0, 1.0, 0.0, 0.0, 0.0, 1.0, 1.0, 1.0, 0.0, 0.0, 0.0, 1.0, 1.0, 1.0, 1.0, 0.0, 1.0, 0.0, 1.0, 1.0, 0.0, 1.0, 0.0, 1.0, 0.0, 1.0, 1.0, 0.0, 0.0, 0.0, 1.0, 0.0, 0.0, 0.0, 1.0, 0.0, 0.0, 0.0, 1.0, 0.0, 1.0, 1.0, 0.0, 1.0, 1.0, 0.0, 0.0, 1.0, 1.0, 1.0, 0.0, 1.0, 0.0, 1.0, 0.0, 1.0, 0.0, 0.0, 0.0, 1.0, 0.0, 0.0, 1.0, 1.0, 1.0, 0.0, 0.0, 1.0, 1.0, 1.0, 0.0, 0.0, 1.0, 1.0, 0.0, 1.0, 1.0, 0.0, 1.0, 0.0, 0.0, 1.0, 0.0, 0.0, 0.0, 1.0, 1.0, 0.0, 0.0, 0.0, 0.0, 1.0, 1.0, 0.0, 1.0, 1.0, 0.0, 1.0, 0.0, 0.0, 0.0, 0.0, 1.0, 0.0, 0.0, 0.0, 1.0, 1.0, 0.0, 0.0, 0.0, 1.0, 0.0, 0.0, 0.0, 1.0, 0.0, 0.0, 0.0, 0.0, 1.0, 0.0, 1.0, 1.0, 1.0, 0.0, 0.0, 0.0, 1.0, 1.0, 0.0, 1.0, 0.0, 1.0, 1.0, 1.0, 1.0, 1.0, 1.0, 0.0, 1.0, 1.0, 0.0, 1.0, 1.0, 1.0, 0.0, 0.0, 0.0, 1.0, 1.0, 0.0, 0.0, 1.0, 0.0, 1.0, 0.0, 1.0, 0.0, 1.0, 0.0, 1.0, 0.0, 1.0, 0.0, 1.0, 0.0, 1.0, 1.0, 1.0, 0.0, 1.0, 1.0, 1.0, 1.0, 1.0, 0.0, 0.0, 1.0, 1.0, 1.0, 1.0, 1.0, 1.0, 0.0, 1.0, 1.0, 1.0, 1.0, 1.0, 1.0, 0.0, 0.0, 1.0, 0.0, 1.0, 0.0, 0.0, 0.0, 0.0, 1.0, 0.0, 0.0, 0.0, 1.0, 0.0, 0.0, 0.0, 1.0, 0.0, 0.0, 1.0, 0.0, 1.0, 1.0, 0.0, 0.0, 1.0, 1.0, 0.0, 0.0, 1.0, 1.0, 1.0, 0.0, 1.0, 0.0, 0.0, 1.0, 0.0, 1.0, 1.0, 0.0, 0.0, 1.0, 0.0, 1.0, 0.0, 1.0, 0.0, 1.0, 0.0, 1.0, 1.0, 1.0, 1.0, 1.0, 0.0, 0.0, 0.0, 1.0, 0.0, 0.0, 1.0, 0.0, 1.0, 1.0, 1.0, 0.0, 0.0, 1.0, 1.0, 0.0, 1.0, 0.0, 0.0, 1.0, 1.0, 1.0, 1.0, 0.0, 1.0, 1.0, 1.0, 1.0, 1.0, 1.0, 0.0, 0.0, 0.0, 1.0, 1.0, 1.0, 0.0, 1.0, 0.0, 1.0, 1.0, 1.0, 1.0, 1.0, 1.0, 1.0, 0.0, 1.0, 1.0, 1.0, 1.0, 1.0, 1.0, 1.0, 0.0, 1.0, 0.0, 1.0, 1.0, 1.0, 0.0, 1.0, 1.0, 1.0, 0.0, 0.0, 1.0, 0.0, 0.0, 0.0, 0.0, 0.0, 1.0, 1.0, 0.0, 0.0, 0.0, 1.0, 1.0, 0.0, 0.0, 0.0, 1.0, 0.0, 1.0, 0.0, 0.0, 1.0, 1.0, 0.0, 0.0, 0.0, 0.0, 0.0, 0.0, 0.0, 0.0, 1.0, 1.0, 0.0, 0.0, 1.0, 0.0, 0.0, 1.0, 1.0, 1.0, 1.0, 0.0, 1.0, 1.0, 0.0, 0.0, 1.0, 0.0, 1.0, 1.0, 1.0, 0.0, 1.0, 1.0, 0.0, 1.0, 0.0, 0.0, 0.0, 1.0, 0.0, 1.0, 0.0, 1.0, 1.0, 1.0, 0.0, 1.0, 0.0, 0.0, 1.0, 0.0, 1.0, 1.0, 1.0, 1.0, 0.0, 0.0, 1.0, 1.0, 1.0, 1.0, 1.0, 1.0, 1.0, 1.0, 1.0, 1.0, 0.0, 1.0, 0.0, 1.0, 0.0, 0.0, 1.0, 1.0, 1.0, 1.0, 1.0, 0.0, 0.0, 1.0, 0.0, 1.0, 0.0, 0.0, 0.0, 1.0, 1.0, 0.0, 1.0, 0.0, 0.0, 1.0, 1.0, 0.0, 0.0, 0.0, 0.0, 0.0, 1.0, 0.0, 0.0, 0.0, 0.0, 1.0, 1.0, 0.0, 0.0, 1.0, 0.0, 1.0, 0.0, 1.0, 0.0, 0.0, 1.0, 1.0, 1.0, 1.0, 1.0, 0.0, 0.0, 1.0, 1.0, 1.0, 1.0, 0.0, 0.0, 0.0, 0.0, 0.0, 0.0, 1.0, 1.0, 0.0, 0.0, 0.0, 1.0, 0.0, 0.0, 0.0, 1.0, 0.0, 1.0, 0.0, 0.0, 1.0, 0.0, 0.0, 1.0, 1.0, 1.0, 1.0, 1.0, 1.0, 0.0, 1.0, 0.0, 0.0, 1.0, 1.0, 1.0, 1.0, 0.0, 0.0, 1.0, 1.0, 0.0, 1.0, 0.0, 0.0, 0.0, 1.0, 0.0, 1.0, 1.0, 1.0, 0.0, 0.0, 1.0, 1.0, 1.0, 1.0, 0.0, 1.0, 1.0, 1.0, 1.0, 0.0, 1.0, 1.0, 0.0, 1.0, 1.0, 0.0, 0.0, 0.0, 0.0, 1.0, 0.0, 0.0, 1.0, 1.0, 1.0, 0.0, 0.0, 1.0, 0.0, 1.0, 0.0, 1.0, 1.0, 0.0, 0.0, 1.0, 0.0, 0.0, 1.0, 0.0, 1.0, 0.0, 1.0, 0.0, 1.0, 1.0, 0.0, 0.0, 1.0, 0.0, 1.0, 0.0, 1.0, 0.0, 1.0, 0.0, 1.0, 0.0, 0.0, 0.0, 0.0, 1.0, 1.0, 0.0, 1.0, 0.0, 1.0, 1.0, 0.0, 0.0, 0.0, 0.0, 0.0, 0.0, 0.0, 0.0, 1.0, 1.0, 0.0, 1.0, 0.0, 0.0, 1.0, 1.0, 0.0, 0.0, 0.0, 1.0, 0.0, 1.0, 0.0, 0.0, 1.0, 1.0, 0.0, 1.0, 1.0, 1.0, 0.0, 0.0, 1.0, 1.0, 0.0, 1.0, 1.0, 0.0, 1.0, 0.0, 1.0, 1.0, 0.0, 1.0, 1.0, 0.0, 1.0, 1.0, 1.0, 1.0, 1.0, 0.0, 1.0, 1.0, 0.0, 0.0, 1.0, 1.0, 0.0, 0.0, 1.0, 1.0, 1.0, 0.0, 1.0, 0.0, 0.0, 0.0, 0.0, 0.0, 1.0, 1.0, 1.0, 1.0, 1.0, 1.0, 0.0, 0.0, 0.0, 0.0, 1.0, 1.0, 0.0, 1.0, 0.0, 0.0, 1.0, 1.0, 0.0, 1.0, 1.0, 0.0, 0.0, 0.0, 0.0, 1.0, 0.0, 0.0, 0.0, 1.0, 0.0, 1.0, 1.0, 0.0, 1.0, 0.0, 1.0, 1.0, 0.0, 0.0, 1.0, 1.0, 0.0, 1.0, 1.0, 1.0, 0.0, 1.0, 0.0, 1.0, 0.0, 1.0, 0.0, 0.0, 1.0, 1.0, 1.0, 0.0, 1.0, 0.0, 0.0, 1.0, 0.0, 1.0, 1.0, 0.0, 0.0, 0.0, 0.0, 0.0, 1.0, 0.0, 0.0, 1.0, 0.0, 1.0, 1.0, 0.0, 0.0, 1.0, 1.0, 0.0, 0.0, 0.0, 1.0, 0.0, 1.0, 0.0, 0.0, 0.0, 0.0, 1.0, 1.0, 1.0, 1.0, 1.0, 0.0, 0.0, 0.0, 0.0, 1.0, 1.0, 0.0, 1.0, 1.0, 0.0, 0.0, 1.0, 0.0, 1.0, 0.0, 1.0, 1.0, 0.0, 0.0, 1.0, 1.0, 0.0, 0.0, 1.0, 0.0, 0.0, 1.0, 1.0, 0.0, 0.0, 1.0, 0.0, 0.0, 0.0, 1.0, 0.0, 0.0, 1.0, 0.0, 1.0, 0.0, 1.0, 1.0, 1.0, 0.0, 1.0, 0.0, 1.0, 1.0, 0.0, 0.0, 1.0, 0.0, 0.0, 0.0, 0.0, 1.0, 0.0, 0.0, 0.0, 1.0, 0.0, 0.0, 0.0, 0.0, 0.0, 1.0, 0.0, 1.0, 0.0, 0.0, 1.0, 0.0, 0.0, 0.0, 1.0, 0.0, 0.0, 0.0, 1.0, 1.0, 1.0, 1.0, 0.0, 1.0, 0.0, 0.0, 1.0, 1.0, 0.0, 0.0, 1.0, 0.0, 1.0, 1.0, 0.0, 1.0, 1.0, 1.0, 0.0, 1.0, 0.0, 1.0, 1.0, 1.0, 0.0, 0.0, 0.0, 1.0, 1.0, 1.0, 0.0, 1.0, 1.0, 0.0, 1.0, 0.0, 0.0, 1.0, 1.0, 1.0, 0.0, 1.0, 0.0, 0.0, 0.0, 0.0, 0.0, 1.0, 1.0, 1.0, 1.0, 0.0, 1.0, 1.0, 0.0, 1.0, 0.0, 0.0, 0.0, 1.0, 1.0, 0.0, 0.0, 1.0, 1.0, 1.0, 0.0, 0.0, 1.0, 0.0, 1.0, 1.0, 0.0, 1.0, 0.0, 0.0, 0.0, 0.0, 1.0, 0.0, 0.0, 0.0, 1.0, 1.0, 0.0, 0.0, 1.0, 1.0, 0.0, 0.0, 0.0, 1.0, 1.0, 0.0, 1.0, 1.0, 1.0, 1.0, 1.0, 0.0, 1.0, 1.0, 0.0, 0.0, 1.0, 1.0, 0.0, 1.0, 0.0, 0.0, 0.0, 0.0, 1.0, 0.0, 1.0, 1.0, 1.0, 0.0, 1.0, 0.0, 1.0, 1.0, 0.0, 0.0, 0.0, 0.0, 0.0, 1.0, 1.0, 1.0, 0.0, 1.0, 0.0, 0.0, 0.0, 0.0, 1.0, 0.0, 1.0, 0.0, 0.0, 0.0, 1.0, 0.0, 0.0, 1.0, 1.0, 1.0, 0.0, 0.0, 0.0, 1.0, 1.0, 0.0, 1.0, 0.0, 1.0, 1.0, 1.0, 0.0, 1.0, 0.0, 1.0, 1.0, 1.0, 1.0, 1.0, 0.0, 0.0, 0.0, 0.0, 0.0, 1.0, 1.0, 0.0, 0.0, 0.0, 1.0, 1.0, 1.0, 1.0, 0.0, 1.0, 0.0, 1.0, 0.0, 1.0, 1.0, 0.0, 0.0, 1.0, 1.0, 1.0, 0.0, 0.0, 0.0, 1.0, 0.0, 1.0, 1.0, 0.0, 0.0, 1.0, 0.0, 1.0, 1.0, 1.0, 0.0, 1.0, 0.0, 1.0, 0.0, 0.0, 0.0, 0.0, 0.0, 0.0, 0.0, 1.0, 0.0, 1.0, 0.0, 1.0, 0.0, 0.0, 0.0, 1.0, 1.0, 1.0, 1.0, 0.0, 1.0, 0.0, 0.0, 0.0, 0.0, 1.0, 0.0, 0.0, 1.0, 0.0, 1.0, 0.0, 0.0, 1.0, 0.0, 0.0, 0.0, 0.0, 0.0, 1.0, 0.0, 1.0, 0.0, 0.0, 1.0, 0.0, 0.0, 1.0, 1.0, 1.0, 0.0, 0.0, 1.0, 0.0, 1.0, 0.0, 1.0, 1.0, 1.0, 1.0, 1.0, 0.0, 1.0, 1.0, 0.0, 1.0, 1.0, 0.0, 1.0, 1.0, 0.0, 0.0, 0.0, 1.0, 0.0, 0.0, 0.0, 1.0, 0.0, 1.0, 0.0, 1.0, 0.0, 0.0, 1.0, 1.0, 1.0, 1.0, 0.0, 0.0, 0.0, 1.0, 1.0, 0.0, 1.0, 1.0, 1.0, 0.0, 0.0, 1.0, 1.0, 0.0, 0.0, 1.0, 1.0, 0.0, 1.0, 1.0, 1.0, 1.0, 0.0, 1.0, 1.0, 0.0, 0.0, 1.0, 0.0, 0.0, 1.0, 1.0, 0.0, 1.0, 0.0, 1.0, 0.0, 1.0, 1.0, 1.0, 1.0, 0.0, 1.0, 1.0, 1.0, 0.0, 0.0, 0.0, 1.0, 0.0, 0.0, 1.0, 0.0, 0.0, 0.0, 0.0, 1.0, 0.0, 1.0, 1.0, 1.0, 1.0, 0.0, 0.0, 1.0, 0.0, 0.0, 1.0, 0.0, 0.0, 1.0, 0.0, 0.0, 1.0, 0.0, 1.0, 1.0, 0.0, 0.0, 1.0, 1.0, 0.0, 1.0, 0.0, 1.0, 1.0, 0.0, 0.0, 1.0, 1.0, 0.0, 0.0, 1.0, 0.0, 1.0, 0.0, 1.0, 0.0, 1.0, 1.0, 1.0, 1.0, 1.0, 0.0, 0.0, 0.0, 0.0, 1.0, 0.0, 1.0, 1.0, 0.0, 0.0, 0.0, 1.0, 1.0, 0.0, 1.0, 1.0, 0.0, 0.0, 1.0, 0.0, 0.0, 0.0, 0.0, 0.0, 1.0, 0.0, 1.0, 1.0, 0.0, 1.0, 0.0, 0.0, 0.0, 1.0, 0.0, 0.0, 1.0, 1.0, 0.0, 1.0, 1.0, 1.0, 1.0, 0.0, 0.0, 0.0, 1.0, 1.0, 1.0, 0.0, 0.0, 0.0, 0.0, 0.0, 0.0, 1.0, 0.0, 1.0, 0.0, 0.0, 1.0, 1.0, 0.0, 0.0, 1.0, 1.0, 1.0, 0.0, 0.0, 1.0, 1.0, 0.0, 1.0, 1.0, 0.0, 1.0, 1.0, 1.0, 1.0, 1.0, 0.0, 1.0, 0.0, 0.0, 0.0, 0.0, 1.0, 1.0, 1.0, 1.0, 1.0, 1.0, 1.0, 0.0, 1.0, 1.0, 1.0, 1.0, 1.0, 0.0, 1.0, 1.0, 1.0, 0.0, 1.0, 0.0, 0.0, 1.0, 0.0, 1.0, 1.0, 0.0, 0.0, 1.0, 0.0, 1.0, 1.0, 0.0, 0.0, 0.0, 0.0, 0.0, 1.0, 0.0, 1.0, 1.0, 1.0, 1.0, 0.0, 1.0, 1.0, 0.0, 1.0, 0.0, 0.0, 1.0, 0.0, 1.0, 0.0, 1.0, 1.0, 0.0, 0.0, 0.0, 0.0, 1.0, 1.0, 0.0, 0.0, 0.0, 0.0, 0.0, 1.0, 0.0, 0.0, 1.0, 0.0, 0.0, 1.0, 1.0, 1.0, 1.0, 1.0, 0.0, 1.0, 1.0, 0.0, 0.0, 0.0, 1.0, 1.0, 1.0, 0.0, 0.0, 0.0, 1.0, 1.0, 0.0, 1.0, 1.0, 1.0, 1.0, 0.0, 1.0, 1.0, 0.0, 1.0, 1.0, 0.0, 0.0, 1.0, 0.0, 0.0, 0.0, 1.0, 1.0, 1.0, 0.0, 0.0, 1.0, 1.0, 0.0, 1.0, 0.0, 1.0, 1.0, 0.0, 0.0, 1.0, 0.0, 0.0, 1.0, 0.0, 0.0, 0.0, 0.0, 1.0, 0.0, 1.0, 0.0, 1.0, 0.0, 0.0, 0.0, 1.0, 0.0, 1.0, 0.0, 0.0, 1.0, 1.0, 0.0, 1.0, 0.0, 1.0, 0.0, 0.0, 0.0, 1.0, 1.0, 1.0, 1.0, 0.0, 0.0, 1.0, 0.0, 1.0, 0.0, 1.0, 1.0, 0.0, 0.0, 1.0, 1.0, 1.0, 0.0, 0.0, 1.0, 1.0, 0.0, 0.0, 1.0, 1.0, 1.0, 1.0, 1.0, 1.0, 1.0, 1.0, 1.0, 0.0, 1.0, 0.0, 0.0, 1.0, 1.0, 1.0, 1.0, 0.0, 0.0, 0.0, 1.0, 0.0, 1.0, 1.0, 0.0, 1.0, 0.0, 1.0, 0.0, 1.0, 0.0, 0.0, 0.0, 0.0, 1.0, 1.0, 0.0, 1.0, 1.0, 1.0, 0.0, 1.0, 1.0, 1.0, 0.0, 0.0, 0.0, 0.0, 0.0, 1.0, 1.0, 1.0, 1.0, 1.0, 1.0, 1.0, 1.0, 1.0, 1.0, 0.0, 1.0, 0.0, 0.0, 1.0, 0.0, 0.0, 0.0, 0.0, 0.0, 1.0, 1.0, 1.0, 0.0, 0.0, 0.0, 1.0, 0.0, 0.0, 0.0, 0.0, 0.0, 1.0, 1.0, 0.0, 1.0, 1.0, 1.0, 0.0, 1.0, 0.0, 0.0, 1.0, 0.0, 0.0, 1.0, 1.0, 0.0, 0.0, 0.0, 0.0, 1.0, 1.0, 1.0, 0.0, 0.0, 1.0, 1.0, 0.0, 0.0, 1.0, 1.0, 0.0, 0.0, 0.0, 1.0, 1.0, 1.0, 0.0, 0.0, 1.0, 0.0, 1.0, 0.0, 1.0, 0.0, 1.0, 0.0, 0.0, 0.0, 1.0, 1.0, 1.0, 0.0, 1.0, 1.0, 0.0, 1.0, 0.0, 0.0, 0.0, 1.0, 0.0, 1.0, 0.0, 1.0, 1.0, 1.0, 1.0, 0.0, 0.0, 0.0, 0.0, 0.0, 0.0, 1.0, 1.0, 0.0, 0.0, 1.0, 1.0, 0.0, 1.0, 1.0, 0.0, 0.0, 1.0, 1.0, 0.0, 0.0, 1.0, 1.0, 0.0, 1.0, 1.0, 0.0, 1.0, 0.0, 0.0, 0.0, 1.0, 0.0, 1.0, 1.0, 0.0, 1.0, 1.0, 1.0, 0.0, 1.0, 0.0, 1.0, 1.0, 0.0, 0.0, 1.0, 1.0, 0.0, 1.0, 1.0, 0.0, 1.0, 1.0, 1.0, 1.0, 1.0, 1.0, 1.0, 0.0, 1.0, 1.0, 1.0, 0.0, 0.0, 1.0, 0.0, 0.0, 0.0, 1.0, 0.0, 0.0, 1.0, 0.0, 1.0, 1.0, 0.0, 0.0, 1.0, 0.0, 0.0, 1.0, 1.0, 0.0, 1.0, 0.0, 0.0, 0.0, 1.0, 0.0, 1.0, 0.0, 0.0, 0.0, 1.0, 0.0, 0.0]\n"
          ],
          "name": "stdout"
        }
      ]
    },
    {
      "cell_type": "code",
      "metadata": {
        "id": "J-PiNyj0Rel8"
      },
      "source": [
        "from sklearn.model_selection import GridSearchCV"
      ],
      "execution_count": null,
      "outputs": []
    },
    {
      "cell_type": "code",
      "metadata": {
        "id": "NI2GfHRoTZeh"
      },
      "source": [
        "tuned_parameters = [{'kernel': ['rbf'], 'gamma': [1e-3, 1e-4,1],'C': [1, 10, 100, 1000]},\r\n",
        "                    {'kernel': ['linear'], 'C': [1, 10, 100, 1000]},\r\n",
        "                    {'kernel': ['rbf'],'C': [1, 10, 100, 1000]}]\r\n",
        "\r\n",
        "scores = ['precision', 'recall']"
      ],
      "execution_count": null,
      "outputs": []
    },
    {
      "cell_type": "code",
      "metadata": {
        "colab": {
          "base_uri": "https://localhost:8080/"
        },
        "id": "Cziu-AdvVo3I",
        "outputId": "301da4c6-60b3-4641-91e0-1f2f8b82ac88"
      },
      "source": [
        "from sklearn.metrics import classification_report\r\n",
        "from sklearn.svm import SVC\r\n",
        "for score in scores:\r\n",
        "    print(\"# Tuning hyper-parameters for %s\" % score)\r\n",
        "    print()\r\n",
        "    clf = GridSearchCV(\r\n",
        "        SVC(), tuned_parameters, scoring='%s_macro' % score\r\n",
        "    )\r\n",
        "    clf.fit(x_train, y_train)\r\n",
        "    print(\"Best parameters set found:\")\r\n",
        "    print()\r\n",
        "    print(clf.best_params_)\r\n",
        "    print()\r\n",
        "    print(\"Grid scores:\")\r\n",
        "    print()\r\n",
        "    means = clf.cv_results_['mean_test_score']\r\n",
        "    stds = clf.cv_results_['std_test_score']\r\n",
        "    for mean, std, params in zip(means, stds, clf.cv_results_['params']):\r\n",
        "        print(\"%0.2f (+/-%0.02f) for %r\"\r\n",
        "              % (mean, std * 2, params))\r\n",
        "    print()\r\n",
        "    print(\"Detailed classification report:\")\r\n",
        "    print()\r\n",
        "    print(\"The model is trained.\")\r\n",
        "    print(\"The scores are computed.\")\r\n",
        "    print()\r\n",
        "    y_true, y_pred = y_test, clf.predict(x_test)\r\n",
        "    print(classification_report(y_true, y_pred))\r\n",
        "    print()\r\n"
      ],
      "execution_count": null,
      "outputs": [
        {
          "output_type": "stream",
          "text": [
            "# Tuning hyper-parameters for precision\n",
            "\n",
            "Best parameters set found:\n",
            "\n",
            "{'C': 1000, 'kernel': 'rbf'}\n",
            "\n",
            "Grid scores:\n",
            "\n",
            "0.97 (+/-0.01) for {'C': 1, 'gamma': 0.001, 'kernel': 'rbf'}\n",
            "0.92 (+/-0.02) for {'C': 1, 'gamma': 0.0001, 'kernel': 'rbf'}\n",
            "0.97 (+/-0.01) for {'C': 1, 'gamma': 1, 'kernel': 'rbf'}\n",
            "0.97 (+/-0.01) for {'C': 10, 'gamma': 0.001, 'kernel': 'rbf'}\n",
            "0.97 (+/-0.01) for {'C': 10, 'gamma': 0.0001, 'kernel': 'rbf'}\n",
            "0.97 (+/-0.01) for {'C': 10, 'gamma': 1, 'kernel': 'rbf'}\n",
            "0.96 (+/-0.01) for {'C': 100, 'gamma': 0.001, 'kernel': 'rbf'}\n",
            "0.96 (+/-0.01) for {'C': 100, 'gamma': 0.0001, 'kernel': 'rbf'}\n",
            "0.96 (+/-0.01) for {'C': 100, 'gamma': 1, 'kernel': 'rbf'}\n",
            "0.97 (+/-0.01) for {'C': 1000, 'gamma': 0.001, 'kernel': 'rbf'}\n",
            "0.96 (+/-0.01) for {'C': 1000, 'gamma': 0.0001, 'kernel': 'rbf'}\n",
            "0.95 (+/-0.01) for {'C': 1000, 'gamma': 1, 'kernel': 'rbf'}\n",
            "0.96 (+/-0.01) for {'C': 1, 'kernel': 'linear'}\n",
            "0.97 (+/-0.01) for {'C': 10, 'kernel': 'linear'}\n",
            "0.96 (+/-0.01) for {'C': 100, 'kernel': 'linear'}\n",
            "0.97 (+/-0.01) for {'C': 1000, 'kernel': 'linear'}\n",
            "0.97 (+/-0.01) for {'C': 1, 'kernel': 'rbf'}\n",
            "0.97 (+/-0.01) for {'C': 10, 'kernel': 'rbf'}\n",
            "0.97 (+/-0.01) for {'C': 100, 'kernel': 'rbf'}\n",
            "0.97 (+/-0.01) for {'C': 1000, 'kernel': 'rbf'}\n",
            "\n",
            "Detailed classification report:\n",
            "\n",
            "The model is trained.\n",
            "The scores are computed.\n",
            "\n",
            "              precision    recall  f1-score   support\n",
            "\n",
            "           0       0.98      0.97      0.97      1000\n",
            "           1       0.97      0.98      0.97      1001\n",
            "\n",
            "    accuracy                           0.97      2001\n",
            "   macro avg       0.97      0.97      0.97      2001\n",
            "weighted avg       0.97      0.97      0.97      2001\n",
            "\n",
            "\n",
            "# Tuning hyper-parameters for recall\n",
            "\n",
            "Best parameters set found:\n",
            "\n",
            "{'C': 1000, 'kernel': 'rbf'}\n",
            "\n",
            "Grid scores:\n",
            "\n",
            "0.97 (+/-0.01) for {'C': 1, 'gamma': 0.001, 'kernel': 'rbf'}\n",
            "0.92 (+/-0.02) for {'C': 1, 'gamma': 0.0001, 'kernel': 'rbf'}\n",
            "0.97 (+/-0.01) for {'C': 1, 'gamma': 1, 'kernel': 'rbf'}\n",
            "0.97 (+/-0.01) for {'C': 10, 'gamma': 0.001, 'kernel': 'rbf'}\n",
            "0.97 (+/-0.01) for {'C': 10, 'gamma': 0.0001, 'kernel': 'rbf'}\n",
            "0.97 (+/-0.01) for {'C': 10, 'gamma': 1, 'kernel': 'rbf'}\n",
            "0.96 (+/-0.01) for {'C': 100, 'gamma': 0.001, 'kernel': 'rbf'}\n",
            "0.96 (+/-0.01) for {'C': 100, 'gamma': 0.0001, 'kernel': 'rbf'}\n",
            "0.96 (+/-0.01) for {'C': 100, 'gamma': 1, 'kernel': 'rbf'}\n",
            "0.97 (+/-0.01) for {'C': 1000, 'gamma': 0.001, 'kernel': 'rbf'}\n",
            "0.96 (+/-0.01) for {'C': 1000, 'gamma': 0.0001, 'kernel': 'rbf'}\n",
            "0.95 (+/-0.01) for {'C': 1000, 'gamma': 1, 'kernel': 'rbf'}\n",
            "0.96 (+/-0.01) for {'C': 1, 'kernel': 'linear'}\n",
            "0.97 (+/-0.01) for {'C': 10, 'kernel': 'linear'}\n",
            "0.96 (+/-0.01) for {'C': 100, 'kernel': 'linear'}\n",
            "0.97 (+/-0.01) for {'C': 1000, 'kernel': 'linear'}\n",
            "0.97 (+/-0.01) for {'C': 1, 'kernel': 'rbf'}\n",
            "0.97 (+/-0.01) for {'C': 10, 'kernel': 'rbf'}\n",
            "0.97 (+/-0.01) for {'C': 100, 'kernel': 'rbf'}\n",
            "0.97 (+/-0.01) for {'C': 1000, 'kernel': 'rbf'}\n",
            "\n",
            "Detailed classification report:\n",
            "\n",
            "The model is trained.\n",
            "The scores are computed.\n",
            "\n",
            "              precision    recall  f1-score   support\n",
            "\n",
            "           0       0.98      0.97      0.97      1000\n",
            "           1       0.97      0.98      0.97      1001\n",
            "\n",
            "    accuracy                           0.97      2001\n",
            "   macro avg       0.97      0.97      0.97      2001\n",
            "weighted avg       0.97      0.97      0.97      2001\n",
            "\n",
            "\n"
          ],
          "name": "stdout"
        }
      ]
    },
    {
      "cell_type": "code",
      "metadata": {
        "id": "lv0KXRiODK6L"
      },
      "source": [
        "c=[]\r\n",
        "for i in range(1,1001,10):\r\n",
        "  c.append(i)\r\n",
        "tuned_parameters = [{'kernel': ['rbf'],'C': c}]\r\n",
        "tuned_parameters1 = [{'kernel': ['linear'],'C': c}]\r\n"
      ],
      "execution_count": null,
      "outputs": []
    },
    {
      "cell_type": "code",
      "metadata": {
        "colab": {
          "base_uri": "https://localhost:8080/"
        },
        "id": "ciu3zxoiEvP6",
        "outputId": "8262ab94-a8dd-4abf-e9ba-0948f7c7307b"
      },
      "source": [
        "r=[]\r\n",
        "clf = GridSearchCV(\r\n",
        "        SVC(), tuned_parameters,cv=5)\r\n",
        "clf.fit(x_train, y_train)\r\n",
        "print(\"Best parameters set found:\")\r\n",
        "print()\r\n",
        "print(clf.best_params_)\r\n",
        "print()\r\n",
        "print()\r\n",
        "means = clf.cv_results_['mean_test_score']\r\n",
        "stds = clf.cv_results_['std_test_score']\r\n",
        "for mean, std, params in zip(means, stds, clf.cv_results_['params']):\r\n",
        "    r.append(mean)"
      ],
      "execution_count": null,
      "outputs": [
        {
          "output_type": "stream",
          "text": [
            "Best parameters set found:\n",
            "\n",
            "{'C': 461, 'kernel': 'rbf'}\n",
            "\n",
            "\n"
          ],
          "name": "stdout"
        }
      ]
    },
    {
      "cell_type": "code",
      "metadata": {
        "colab": {
          "base_uri": "https://localhost:8080/"
        },
        "id": "Ee9Im1YBHUwK",
        "outputId": "53b2a8c6-f712-44a5-90fd-5ca7298d256a"
      },
      "source": [
        "l=[]\r\n",
        "clf = GridSearchCV(\r\n",
        "        SVC(), tuned_parameters1,cv=5)\r\n",
        "clf.fit(x_train, y_train)\r\n",
        "print(\"Best parameters set found:\")\r\n",
        "print()\r\n",
        "print(clf.best_params_)\r\n",
        "means = clf.cv_results_['mean_test_score']\r\n",
        "stds = clf.cv_results_['std_test_score']\r\n",
        "for mean, std, params in zip(means, stds, clf.cv_results_['params']):\r\n",
        "    l.append(mean)"
      ],
      "execution_count": null,
      "outputs": [
        {
          "output_type": "stream",
          "text": [
            "Best parameters set found:\n",
            "\n",
            "{'C': 961, 'kernel': 'linear'}\n"
          ],
          "name": "stdout"
        }
      ]
    },
    {
      "cell_type": "code",
      "metadata": {
        "colab": {
          "base_uri": "https://localhost:8080/"
        },
        "id": "6l9iFhOjJwf6",
        "outputId": "d380e871-ae97-4ba5-de62-1eb56bd0d9e5"
      },
      "source": [
        "a=[]\r\n",
        "clf = GridSearchCV(\r\n",
        "        SVC(gamma=0.1), tuned_parameters,cv=5)\r\n",
        "clf.fit(x_train, y_train)\r\n",
        "print(\"Best parameters set found:\")\r\n",
        "print()\r\n",
        "print(clf.best_params_)\r\n",
        "means = clf.cv_results_['mean_test_score']\r\n",
        "stds = clf.cv_results_['std_test_score']\r\n",
        "for mean, std, params in zip(means, stds, clf.cv_results_['params']):\r\n",
        "    a.append(mean)"
      ],
      "execution_count": null,
      "outputs": [
        {
          "output_type": "stream",
          "text": [
            "Best parameters set found:\n",
            "\n",
            "{'C': 41, 'kernel': 'rbf'}\n"
          ],
          "name": "stdout"
        }
      ]
    },
    {
      "cell_type": "code",
      "metadata": {
        "colab": {
          "base_uri": "https://localhost:8080/"
        },
        "id": "rHSSisXiJ_YH",
        "outputId": "7c37f26b-475f-49b8-f203-ec53d7ac260d"
      },
      "source": [
        "b=[]\r\n",
        "clf = GridSearchCV(\r\n",
        "        SVC(gamma=0.01), tuned_parameters,cv=5)\r\n",
        "clf.fit(x_train, y_train)\r\n",
        "print(\"Best parameters set found:\")\r\n",
        "print()\r\n",
        "print(clf.best_params_)\r\n",
        "means = clf.cv_results_['mean_test_score']\r\n",
        "stds = clf.cv_results_['std_test_score']\r\n",
        "for mean, std, params in zip(means, stds, clf.cv_results_['params']):\r\n",
        "    b.append(mean)"
      ],
      "execution_count": null,
      "outputs": [
        {
          "output_type": "stream",
          "text": [
            "Best parameters set found:\n",
            "\n",
            "{'C': 991, 'kernel': 'rbf'}\n"
          ],
          "name": "stdout"
        }
      ]
    },
    {
      "cell_type": "code",
      "metadata": {
        "colab": {
          "base_uri": "https://localhost:8080/"
        },
        "id": "p531b6LpKJdR",
        "outputId": "0fe83296-0670-4288-f87c-42bbfe5eb560"
      },
      "source": [
        "d=[]\r\n",
        "clf = GridSearchCV(\r\n",
        "        SVC(gamma=0.001), tuned_parameters,cv=5)\r\n",
        "clf.fit(x_train, y_train)\r\n",
        "print(\"Best parameters set found:\")\r\n",
        "print()\r\n",
        "print(clf.best_params_)\r\n",
        "means = clf.cv_results_['mean_test_score']\r\n",
        "stds = clf.cv_results_['std_test_score']\r\n",
        "for mean, std, params in zip(means, stds, clf.cv_results_['params']):\r\n",
        "    d.append(mean)"
      ],
      "execution_count": null,
      "outputs": [
        {
          "output_type": "stream",
          "text": [
            "Best parameters set found:\n",
            "\n",
            "{'C': 11, 'kernel': 'rbf'}\n"
          ],
          "name": "stdout"
        }
      ]
    },
    {
      "cell_type": "code",
      "metadata": {
        "colab": {
          "base_uri": "https://localhost:8080/"
        },
        "id": "b54cN3fJLaBw",
        "outputId": "e838a63a-66d6-4420-bde0-1fa184e14ebe"
      },
      "source": [
        "x=[]\r\n",
        "clf = GridSearchCV(\r\n",
        "        SVC(gamma=0.1), tuned_parameters1,cv=5)\r\n",
        "clf.fit(x_train, y_train)\r\n",
        "print(\"Best parameters set found:\")\r\n",
        "print()\r\n",
        "print(clf.best_params_)\r\n",
        "means = clf.cv_results_['mean_test_score']\r\n",
        "stds = clf.cv_results_['std_test_score']\r\n",
        "for mean, std, params in zip(means, stds, clf.cv_results_['params']):\r\n",
        "    x.append(mean)"
      ],
      "execution_count": null,
      "outputs": [
        {
          "output_type": "stream",
          "text": [
            "Best parameters set found:\n",
            "\n",
            "{'C': 961, 'kernel': 'linear'}\n"
          ],
          "name": "stdout"
        }
      ]
    },
    {
      "cell_type": "code",
      "metadata": {
        "colab": {
          "base_uri": "https://localhost:8080/"
        },
        "id": "9NODfUdmLntQ",
        "outputId": "86991899-ef8b-4199-dab6-a933fcd30aa6"
      },
      "source": [
        "y=[]\r\n",
        "clf = GridSearchCV(\r\n",
        "        SVC(gamma=0.01), tuned_parameters1,cv=5)\r\n",
        "clf.fit(x_train, y_train)\r\n",
        "print(\"Best parameters set found:\")\r\n",
        "print()\r\n",
        "print(clf.best_params_)\r\n",
        "means = clf.cv_results_['mean_test_score']\r\n",
        "stds = clf.cv_results_['std_test_score']\r\n",
        "for mean, std, params in zip(means, stds, clf.cv_results_['params']):\r\n",
        "    y.append(mean)"
      ],
      "execution_count": null,
      "outputs": [
        {
          "output_type": "stream",
          "text": [
            "Best parameters set found:\n",
            "\n",
            "{'C': 961, 'kernel': 'linear'}\n"
          ],
          "name": "stdout"
        }
      ]
    },
    {
      "cell_type": "code",
      "metadata": {
        "colab": {
          "base_uri": "https://localhost:8080/"
        },
        "id": "i-ALJ2ceLtfE",
        "outputId": "57cdf667-7f8c-48c2-deb0-346bec8c1a61"
      },
      "source": [
        "z=[]\r\n",
        "clf = GridSearchCV(\r\n",
        "        SVC(gamma=0.001), tuned_parameters1,cv=5)\r\n",
        "clf.fit(x_train, y_train)\r\n",
        "print(\"Best parameters set found:\")\r\n",
        "print()\r\n",
        "print(clf.best_params_)\r\n",
        "means = clf.cv_results_['mean_test_score']\r\n",
        "stds = clf.cv_results_['std_test_score']\r\n",
        "for mean, std, params in zip(means, stds, clf.cv_results_['params']):\r\n",
        "    z.append(mean)"
      ],
      "execution_count": null,
      "outputs": [
        {
          "output_type": "stream",
          "text": [
            "Best parameters set found:\n",
            "\n",
            "{'C': 961, 'kernel': 'linear'}\n"
          ],
          "name": "stdout"
        }
      ]
    },
    {
      "cell_type": "code",
      "metadata": {
        "colab": {
          "base_uri": "https://localhost:8080/",
          "height": 513
        },
        "id": "TNsKV7MZHSLB",
        "outputId": "c632fe40-c45f-468b-86dd-ba9038c3404e"
      },
      "source": [
        "import matplotlib.pyplot as plt\r\n",
        "plt.style.use('dark_background')\r\n",
        "plt.figure(figsize=(8,8)) \r\n",
        "plt.plot(c,r,color=\"red\",label=\"RBF\")\r\n",
        "plt.plot(c,l,color=\"green\",label=\"Linear\")\r\n",
        "plt.xlabel('C ')\r\n",
        "plt.ylabel('Grid Scores')\r\n",
        "plt.title('Performance Analysis for different C value')\r\n",
        "plt.legend()\r\n",
        "plt.show()"
      ],
      "execution_count": null,
      "outputs": [
        {
          "output_type": "display_data",
          "data": {
            "image/png": "[encoded data removed]",
            "text/plain": [
              "<Figure size 576x576 with 1 Axes>"
            ]
          },
          "metadata": {
            "tags": []
          }
        }
      ]
    },
    {
      "cell_type": "code",
      "metadata": {
        "colab": {
          "base_uri": "https://localhost:8080/",
          "height": 513
        },
        "id": "QyuvoyxqKVB5",
        "outputId": "ef06f556-be7b-4cd1-fa24-9b762ee893a3"
      },
      "source": [
        "import matplotlib.pyplot as plt\r\n",
        "plt.style.use('dark_background')\r\n",
        "plt.figure(figsize=(8,8)) \r\n",
        "plt.plot(c,a,color=\"red\",label=\"gamma=0.1\")\r\n",
        "plt.plot(c,b,color=\"green\",label=\"gamma=0.01\")\r\n",
        "plt.plot(c,d,color=\"blue\",label=\"gamma=0.001\")\r\n",
        "plt.xlabel('C ')\r\n",
        "plt.ylabel('Grid Scores')\r\n",
        "plt.title('Performance Analysis for different C and gamma value in RBF kernel')\r\n",
        "plt.legend()\r\n",
        "plt.show()"
      ],
      "execution_count": null,
      "outputs": [
        {
          "output_type": "display_data",
          "data": {
            "image/png": "[encoded data removed]",
            "text/plain": [
              "<Figure size 576x576 with 1 Axes>"
            ]
          },
          "metadata": {
            "tags": []
          }
        }
      ]
    },
    {
      "cell_type": "code",
      "metadata": {
        "colab": {
          "base_uri": "https://localhost:8080/",
          "height": 513
        },
        "id": "NcCibVVDKe3N",
        "outputId": "692df54e-3623-4a41-d852-657dd7c25610"
      },
      "source": [
        "import matplotlib.pyplot as plt\r\n",
        "plt.style.use('dark_background')\r\n",
        "plt.figure(figsize=(8,8)) \r\n",
        "plt.plot(c,x,color=\"red\",label=\"gamma=0.1\")\r\n",
        "plt.plot(c,y,color=\"green\",label=\"gamma=0.01\")\r\n",
        "plt.plot(c,z,color=\"blue\",label=\"gamma=0.001\")\r\n",
        "plt.xlabel('C ')\r\n",
        "plt.ylabel('Grid Scores')\r\n",
        "plt.title('Performance Analysis for different C and gamma value in Linear kernel')\r\n",
        "plt.legend()\r\n",
        "plt.show()"
      ],
      "execution_count": null,
      "outputs": [
        {
          "output_type": "display_data",
          "data": {
            "image/png": "[encoded data removed]",
            "text/plain": [
              "<Figure size 576x576 with 1 Axes>"
            ]
          },
          "metadata": {
            "tags": []
          }
        }
      ]
    }
  ]
}